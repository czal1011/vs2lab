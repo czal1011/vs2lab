{
 "cells": [
  {
   "cell_type": "markdown",
   "metadata": {},
   "source": [
    "# Auskunft-Modell - Serverseite\n",
    "Dieses Notebook muss aufgerufen werden, nachdem der Server gestartet wurde."
   ]
  },
  {
   "cell_type": "markdown",
   "metadata": {},
   "source": [
    "## Setup"
   ]
  },
  {
   "cell_type": "code",
   "execution_count": 1,
   "metadata": {},
   "outputs": [],
   "source": [
    "import clientserver"
   ]
  },
  {
   "cell_type": "markdown",
   "metadata": {},
   "source": [
    "## GET"
   ]
  },
  {
   "cell_type": "code",
   "execution_count": 2,
   "metadata": {},
   "outputs": [
    {
     "name": "stderr",
     "output_type": "stream",
     "text": [
      "2023-10-23 07:47:42,559 - vs2lab.a1_layers.clientserver.Client - INFO - Client connected to socket <socket.socket fd=57, family=2, type=1, proto=0, laddr=('127.0.0.1', 56678), raddr=('127.0.0.1', 50007)>\n",
      "2023-10-23 07:47:42,561 - vs2lab.a1_layers.clientserver.Client - INFO - Attempting to use method \"GET/Rufus\"...\n",
      "2023-10-23 07:47:42,564 - vs2lab.a1_layers.clientserver.Client - INFO - =================================================\n",
      "2023-10-23 07:47:42,566 - vs2lab.a1_layers.clientserver.Client - INFO - Rufus: 1234567890\n",
      "2023-10-23 07:47:42,569 - vs2lab.a1_layers.clientserver.Client - INFO - =================================================\n",
      "\n",
      "2023-10-23 07:47:42,572 - vs2lab.a1_layers.clientserver.Client - INFO - Client down.\n"
     ]
    }
   ],
   "source": [
    "client = clientserver.Client()\n",
    "\n",
    "client.get(\"Rufus\")"
   ]
  },
  {
   "cell_type": "markdown",
   "metadata": {},
   "source": [
    "## GET (Anderer Name)"
   ]
  },
  {
   "cell_type": "code",
   "execution_count": 3,
   "metadata": {},
   "outputs": [
    {
     "name": "stderr",
     "output_type": "stream",
     "text": [
      "2023-10-23 07:47:42,586 - vs2lab.a1_layers.clientserver.Client - INFO - Client connected to socket <socket.socket fd=57, family=2, type=1, proto=0, laddr=('127.0.0.1', 56684), raddr=('127.0.0.1', 50007)>\n",
      "2023-10-23 07:47:42,590 - vs2lab.a1_layers.clientserver.Client - INFO - Attempting to use method \"GET/Peter\"...\n",
      "2023-10-23 07:47:42,594 - vs2lab.a1_layers.clientserver.Client - INFO - =================================================\n",
      "2023-10-23 07:47:42,596 - vs2lab.a1_layers.clientserver.Client - INFO - Peter: 89555521\n",
      "2023-10-23 07:47:42,599 - vs2lab.a1_layers.clientserver.Client - INFO - =================================================\n",
      "\n",
      "2023-10-23 07:47:42,601 - vs2lab.a1_layers.clientserver.Client - INFO - Client down.\n"
     ]
    }
   ],
   "source": [
    "client = clientserver.Client()\n",
    "\n",
    "client.get(\"Peter\")"
   ]
  },
  {
   "cell_type": "markdown",
   "metadata": {},
   "source": [
    "## GET (Name existiert nicht in der Datenbank)"
   ]
  },
  {
   "cell_type": "code",
   "execution_count": 4,
   "metadata": {},
   "outputs": [
    {
     "name": "stderr",
     "output_type": "stream",
     "text": [
      "2023-10-23 07:47:42,616 - vs2lab.a1_layers.clientserver.Client - INFO - Client connected to socket <socket.socket fd=57, family=2, type=1, proto=0, laddr=('127.0.0.1', 56690), raddr=('127.0.0.1', 50007)>\n",
      "2023-10-23 07:47:42,618 - vs2lab.a1_layers.clientserver.Client - INFO - Attempting to use method \"GET/Carlos\"...\n",
      "2023-10-23 07:47:42,621 - vs2lab.a1_layers.clientserver.Client - INFO - =================================================\n",
      "2023-10-23 07:47:42,624 - vs2lab.a1_layers.clientserver.Client - WARNING - Warning: Name Carlos is not present in the phone number database.\n",
      "2023-10-23 07:47:42,627 - vs2lab.a1_layers.clientserver.Client - INFO - =================================================\n",
      "\n",
      "2023-10-23 07:47:42,631 - vs2lab.a1_layers.clientserver.Client - INFO - Client down.\n"
     ]
    }
   ],
   "source": [
    "client = clientserver.Client()\n",
    "\n",
    "client.get(\"Carlos\")"
   ]
  },
  {
   "cell_type": "markdown",
   "metadata": {},
   "source": [
    "## GETALL"
   ]
  },
  {
   "cell_type": "code",
   "execution_count": 5,
   "metadata": {},
   "outputs": [
    {
     "name": "stderr",
     "output_type": "stream",
     "text": [
      "2023-10-23 07:47:42,646 - vs2lab.a1_layers.clientserver.Client - INFO - Client connected to socket <socket.socket fd=57, family=2, type=1, proto=0, laddr=('127.0.0.1', 56696), raddr=('127.0.0.1', 50007)>\n",
      "2023-10-23 07:47:42,648 - vs2lab.a1_layers.clientserver.Client - INFO - Attempting to use method \"GETALL\"...\n",
      "2023-10-23 07:47:42,652 - vs2lab.a1_layers.clientserver.Client - INFO - =================================================\n",
      "2023-10-23 07:47:42,653 - vs2lab.a1_layers.clientserver.Client - INFO - Rufus: 1234567890\n",
      "2023-10-23 07:47:42,656 - vs2lab.a1_layers.clientserver.Client - INFO - Karl-Heinz-Dietrich: 987654321\n",
      "2023-10-23 07:47:42,659 - vs2lab.a1_layers.clientserver.Client - INFO - Peter: 89555521\n",
      "2023-10-23 07:47:42,661 - vs2lab.a1_layers.clientserver.Client - INFO - Peter 2: 2222222223\n",
      "2023-10-23 07:47:42,664 - vs2lab.a1_layers.clientserver.Client - INFO - Sonic the Hedgehog: 9876567811\n",
      "2023-10-23 07:47:42,667 - vs2lab.a1_layers.clientserver.Client - INFO - Gustav: 4294967296\n",
      "2023-10-23 07:47:42,669 - vs2lab.a1_layers.clientserver.Client - INFO - =================================================\n",
      "\n",
      "2023-10-23 07:47:42,673 - vs2lab.a1_layers.clientserver.Client - INFO - Client down.\n"
     ]
    }
   ],
   "source": [
    "client = clientserver.Client()\n",
    "\n",
    "client.get_all()"
   ]
  },
  {
   "cell_type": "markdown",
   "metadata": {},
   "source": [
    "## Spezialfälle / Errors"
   ]
  },
  {
   "cell_type": "markdown",
   "metadata": {},
   "source": [
    "### Ungültiger Name (\"\")"
   ]
  },
  {
   "cell_type": "code",
   "execution_count": 6,
   "metadata": {},
   "outputs": [
    {
     "name": "stderr",
     "output_type": "stream",
     "text": [
      "2023-10-23 07:47:42,685 - vs2lab.a1_layers.clientserver.Client - INFO - Client connected to socket <socket.socket fd=57, family=2, type=1, proto=0, laddr=('127.0.0.1', 56708), raddr=('127.0.0.1', 50007)>\n",
      "2023-10-23 07:47:42,688 - vs2lab.a1_layers.clientserver.Client - INFO - Attempting to use method \"GET/\"...\n",
      "2023-10-23 07:47:42,692 - vs2lab.a1_layers.clientserver.Client - INFO - =================================================\n",
      "2023-10-23 07:47:42,695 - vs2lab.a1_layers.clientserver.Client - WARNING - Warning: Invalid parameter '' for method 'GET'.\n",
      "2023-10-23 07:47:42,698 - vs2lab.a1_layers.clientserver.Client - INFO - =================================================\n",
      "\n",
      "2023-10-23 07:47:42,701 - vs2lab.a1_layers.clientserver.Client - INFO - Client down.\n"
     ]
    }
   ],
   "source": [
    "client = clientserver.Client()\n",
    "\n",
    "client.get(\"\")"
   ]
  }
 ],
 "metadata": {
  "kernelspec": {
   "display_name": "Python 3 (ipykernel)",
   "language": "python",
   "name": "python3"
  },
  "language_info": {
   "codemirror_mode": {
    "name": "ipython",
    "version": 3
   },
   "file_extension": ".py",
   "mimetype": "text/x-python",
   "name": "python",
   "nbconvert_exporter": "python",
   "pygments_lexer": "ipython3",
   "version": "3.11.4"
  }
 },
 "nbformat": 4,
 "nbformat_minor": 4
}
