{
 "cells": [
  {
   "cell_type": "markdown",
   "metadata": {},
   "source": [
    "# Auskunft-Modell - Clientseite\n",
    "Dieses Notebook muss aufgerufen werden, nachdem der Server gestartet wurde."
   ]
  },
  {
   "cell_type": "markdown",
   "metadata": {},
   "source": [
    "## Setup"
   ]
  },
  {
   "cell_type": "code",
   "execution_count": 1,
   "metadata": {},
   "outputs": [],
   "source": [
    "import clientserver"
   ]
  },
  {
   "cell_type": "markdown",
   "metadata": {},
   "source": [
    "## GET"
   ]
  },
  {
   "cell_type": "code",
   "execution_count": 2,
   "metadata": {},
   "outputs": [
    {
     "name": "stderr",
     "output_type": "stream",
     "text": [
      "2023-10-23 13:23:51,230 - vs2lab.a1_layers.clientserver.Client - INFO - Client connected to socket <socket.socket fd=57, family=2, type=1, proto=0, laddr=('127.0.0.1', 58064), raddr=('127.0.0.1', 50007)>\n",
      "2023-10-23 13:23:51,233 - vs2lab.a1_layers.clientserver.Client - INFO - Attempting to use method \"GET/Rufus\"...\n",
      "2023-10-23 13:23:51,234 - vs2lab.a1_layers.clientserver.Client - INFO - Sending data GET/Rufus to server...\n",
      "2023-10-23 13:23:51,248 - vs2lab.a1_layers.clientserver.Client - INFO - Obtained data from server, analyzing...\n",
      "2023-10-23 13:23:51,251 - vs2lab.a1_layers.clientserver.Client - INFO - Printing decoded data to console...\n",
      "2023-10-23 13:23:51,253 - vs2lab.a1_layers.clientserver.Client - INFO - =================================================\n",
      "2023-10-23 13:23:51,256 - vs2lab.a1_layers.clientserver.Client - INFO - Rufus: 1234567890\n",
      "2023-10-23 13:23:51,258 - vs2lab.a1_layers.clientserver.Client - INFO - =================================================\n",
      "\n",
      "2023-10-23 13:23:51,260 - vs2lab.a1_layers.clientserver.Client - INFO - Successfully printed decoded data. Closing socket connection...\n",
      "2023-10-23 13:23:51,262 - vs2lab.a1_layers.clientserver.Client - INFO - Client down.\n"
     ]
    },
    {
     "data": {
      "text/plain": [
       "'Rufus: 1234567890'"
      ]
     },
     "execution_count": 2,
     "metadata": {},
     "output_type": "execute_result"
    }
   ],
   "source": [
    "client = clientserver.Client()\n",
    "\n",
    "client.get(\"Rufus\")"
   ]
  },
  {
   "cell_type": "markdown",
   "metadata": {},
   "source": [
    "## GET (Anderer Name)"
   ]
  },
  {
   "cell_type": "code",
   "execution_count": 3,
   "metadata": {},
   "outputs": [
    {
     "name": "stderr",
     "output_type": "stream",
     "text": [
      "2023-10-23 13:23:51,285 - vs2lab.a1_layers.clientserver.Client - INFO - Client connected to socket <socket.socket fd=57, family=2, type=1, proto=0, laddr=('127.0.0.1', 58076), raddr=('127.0.0.1', 50007)>\n",
      "2023-10-23 13:23:51,288 - vs2lab.a1_layers.clientserver.Client - INFO - Attempting to use method \"GET/Peter\"...\n",
      "2023-10-23 13:23:51,290 - vs2lab.a1_layers.clientserver.Client - INFO - Sending data GET/Peter to server...\n",
      "2023-10-23 13:23:51,306 - vs2lab.a1_layers.clientserver.Client - INFO - Obtained data from server, analyzing...\n",
      "2023-10-23 13:23:51,309 - vs2lab.a1_layers.clientserver.Client - INFO - Printing decoded data to console...\n",
      "2023-10-23 13:23:51,312 - vs2lab.a1_layers.clientserver.Client - INFO - =================================================\n",
      "2023-10-23 13:23:51,316 - vs2lab.a1_layers.clientserver.Client - INFO - Peter: 89555521\n",
      "2023-10-23 13:23:51,318 - vs2lab.a1_layers.clientserver.Client - INFO - =================================================\n",
      "\n",
      "2023-10-23 13:23:51,320 - vs2lab.a1_layers.clientserver.Client - INFO - Successfully printed decoded data. Closing socket connection...\n",
      "2023-10-23 13:23:51,324 - vs2lab.a1_layers.clientserver.Client - INFO - Client down.\n"
     ]
    },
    {
     "data": {
      "text/plain": [
       "'Peter: 89555521'"
      ]
     },
     "execution_count": 3,
     "metadata": {},
     "output_type": "execute_result"
    }
   ],
   "source": [
    "client = clientserver.Client()\n",
    "\n",
    "client.get(\"Peter\")"
   ]
  },
  {
   "cell_type": "markdown",
   "metadata": {},
   "source": [
    "## GET (Name existiert nicht in der Datenbank)"
   ]
  },
  {
   "cell_type": "code",
   "execution_count": 4,
   "metadata": {},
   "outputs": [
    {
     "name": "stderr",
     "output_type": "stream",
     "text": [
      "2023-10-23 13:23:51,347 - vs2lab.a1_layers.clientserver.Client - INFO - Client connected to socket <socket.socket fd=57, family=2, type=1, proto=0, laddr=('127.0.0.1', 58086), raddr=('127.0.0.1', 50007)>\n",
      "2023-10-23 13:23:51,353 - vs2lab.a1_layers.clientserver.Client - INFO - Attempting to use method \"GET/Carlos\"...\n",
      "2023-10-23 13:23:51,355 - vs2lab.a1_layers.clientserver.Client - INFO - Sending data GET/Carlos to server...\n",
      "2023-10-23 13:23:51,365 - vs2lab.a1_layers.clientserver.Client - INFO - Obtained data from server, analyzing...\n",
      "2023-10-23 13:23:51,368 - vs2lab.a1_layers.clientserver.Client - INFO - Printing decoded data to console...\n",
      "2023-10-23 13:23:51,370 - vs2lab.a1_layers.clientserver.Client - INFO - =================================================\n",
      "2023-10-23 13:23:51,372 - vs2lab.a1_layers.clientserver.Client - WARNING - Warning: Name Carlos is not present in the phone number database.\n",
      "2023-10-23 13:23:51,375 - vs2lab.a1_layers.clientserver.Client - INFO - =================================================\n",
      "\n",
      "2023-10-23 13:23:51,377 - vs2lab.a1_layers.clientserver.Client - INFO - Successfully printed decoded data. Closing socket connection...\n",
      "2023-10-23 13:23:51,380 - vs2lab.a1_layers.clientserver.Client - INFO - Client down.\n"
     ]
    },
    {
     "data": {
      "text/plain": [
       "'Warning: Name Carlos is not present in the phone number database.'"
      ]
     },
     "execution_count": 4,
     "metadata": {},
     "output_type": "execute_result"
    }
   ],
   "source": [
    "client = clientserver.Client()\n",
    "\n",
    "client.get(\"Carlos\")"
   ]
  },
  {
   "cell_type": "markdown",
   "metadata": {},
   "source": [
    "## GETALL"
   ]
  },
  {
   "cell_type": "code",
   "execution_count": 5,
   "metadata": {},
   "outputs": [
    {
     "name": "stderr",
     "output_type": "stream",
     "text": [
      "2023-10-23 13:23:51,397 - vs2lab.a1_layers.clientserver.Client - INFO - Client connected to socket <socket.socket fd=57, family=2, type=1, proto=0, laddr=('127.0.0.1', 58092), raddr=('127.0.0.1', 50007)>\n",
      "2023-10-23 13:23:51,399 - vs2lab.a1_layers.clientserver.Client - INFO - Attempting to use method \"GETALL\"...\n",
      "2023-10-23 13:23:51,402 - vs2lab.a1_layers.clientserver.Client - INFO - Sending data GETALL to server...\n",
      "2023-10-23 13:23:51,414 - vs2lab.a1_layers.clientserver.Client - INFO - Obtained data from server, analyzing...\n",
      "2023-10-23 13:23:51,416 - vs2lab.a1_layers.clientserver.Client - INFO - Printing decoded data to console...\n",
      "2023-10-23 13:23:51,418 - vs2lab.a1_layers.clientserver.Client - INFO - =================================================\n",
      "2023-10-23 13:23:51,420 - vs2lab.a1_layers.clientserver.Client - INFO - Rufus: 1234567890\n",
      "2023-10-23 13:23:51,422 - vs2lab.a1_layers.clientserver.Client - INFO - Karl-Heinz-Dietrich: 987654321\n",
      "2023-10-23 13:23:51,424 - vs2lab.a1_layers.clientserver.Client - INFO - Peter: 89555521\n",
      "2023-10-23 13:23:51,427 - vs2lab.a1_layers.clientserver.Client - INFO - Peter 2: 2222222223\n",
      "2023-10-23 13:23:51,429 - vs2lab.a1_layers.clientserver.Client - INFO - Sonic the Hedgehog: 9876567811\n",
      "2023-10-23 13:23:51,433 - vs2lab.a1_layers.clientserver.Client - INFO - Gustav: 4294967296\n",
      "2023-10-23 13:23:51,435 - vs2lab.a1_layers.clientserver.Client - INFO - =================================================\n",
      "\n",
      "2023-10-23 13:23:51,437 - vs2lab.a1_layers.clientserver.Client - INFO - Successfully printed decoded data. Closing socket connection...\n",
      "2023-10-23 13:23:51,439 - vs2lab.a1_layers.clientserver.Client - INFO - Client down.\n"
     ]
    },
    {
     "data": {
      "text/plain": [
       "'GETALL|Rufus: 1234567890|Karl-Heinz-Dietrich: 987654321|Peter: 89555521|Peter 2: 2222222223|Sonic the Hedgehog: 9876567811|Gustav: 4294967296'"
      ]
     },
     "execution_count": 5,
     "metadata": {},
     "output_type": "execute_result"
    }
   ],
   "source": [
    "client = clientserver.Client()\n",
    "\n",
    "client.get_all()"
   ]
  },
  {
   "cell_type": "markdown",
   "metadata": {},
   "source": [
    "## Spezialfälle / Errors"
   ]
  },
  {
   "cell_type": "markdown",
   "metadata": {},
   "source": [
    "### Ungültiger Name (\"\")"
   ]
  },
  {
   "cell_type": "code",
   "execution_count": 6,
   "metadata": {},
   "outputs": [
    {
     "name": "stderr",
     "output_type": "stream",
     "text": [
      "2023-10-23 13:23:51,455 - vs2lab.a1_layers.clientserver.Client - INFO - Client connected to socket <socket.socket fd=57, family=2, type=1, proto=0, laddr=('127.0.0.1', 58106), raddr=('127.0.0.1', 50007)>\n",
      "2023-10-23 13:23:51,458 - vs2lab.a1_layers.clientserver.Client - INFO - Attempting to use method \"GET/\"...\n",
      "2023-10-23 13:23:51,461 - vs2lab.a1_layers.clientserver.Client - INFO - Sending data GET/ to server...\n",
      "2023-10-23 13:23:51,467 - vs2lab.a1_layers.clientserver.Client - INFO - Obtained data from server, analyzing...\n",
      "2023-10-23 13:23:51,470 - vs2lab.a1_layers.clientserver.Client - INFO - Printing decoded data to console...\n",
      "2023-10-23 13:23:51,472 - vs2lab.a1_layers.clientserver.Client - INFO - =================================================\n",
      "2023-10-23 13:23:51,475 - vs2lab.a1_layers.clientserver.Client - WARNING - Warning: Invalid parameter '' for method 'GET'.\n",
      "2023-10-23 13:23:51,478 - vs2lab.a1_layers.clientserver.Client - INFO - =================================================\n",
      "\n",
      "2023-10-23 13:23:51,480 - vs2lab.a1_layers.clientserver.Client - INFO - Successfully printed decoded data. Closing socket connection...\n",
      "2023-10-23 13:23:51,484 - vs2lab.a1_layers.clientserver.Client - INFO - Client down.\n"
     ]
    },
    {
     "data": {
      "text/plain": [
       "\"Warning: Invalid parameter '' for method 'GET'.\""
      ]
     },
     "execution_count": 6,
     "metadata": {},
     "output_type": "execute_result"
    }
   ],
   "source": [
    "client = clientserver.Client()\n",
    "\n",
    "client.get(\"\")"
   ]
  },
  {
   "cell_type": "markdown",
   "metadata": {},
   "source": [
    "### Ungültige Methode"
   ]
  },
  {
   "cell_type": "code",
   "execution_count": 7,
   "metadata": {},
   "outputs": [
    {
     "name": "stderr",
     "output_type": "stream",
     "text": [
      "2023-10-23 13:23:51,506 - vs2lab.a1_layers.clientserver.Client - INFO - Client connected to socket <socket.socket fd=57, family=2, type=1, proto=0, laddr=('127.0.0.1', 58112), raddr=('127.0.0.1', 50007)>\n",
      "2023-10-23 13:23:51,508 - vs2lab.a1_layers.clientserver.Client - INFO - Sending data invalidMethod to server...\n",
      "2023-10-23 13:23:51,514 - vs2lab.a1_layers.clientserver.Client - INFO - Obtained data from server, analyzing...\n",
      "2023-10-23 13:23:51,517 - vs2lab.a1_layers.clientserver.Client - INFO - Printing decoded data to console...\n",
      "2023-10-23 13:23:51,519 - vs2lab.a1_layers.clientserver.Client - INFO - =================================================\n",
      "2023-10-23 13:23:51,521 - vs2lab.a1_layers.clientserver.Client - WARNING - Warning: Invalid method 'invalidMethod'.\n",
      "2023-10-23 13:23:51,523 - vs2lab.a1_layers.clientserver.Client - INFO - =================================================\n",
      "\n",
      "2023-10-23 13:23:51,525 - vs2lab.a1_layers.clientserver.Client - INFO - Successfully printed decoded data. Closing socket connection...\n",
      "2023-10-23 13:23:51,528 - vs2lab.a1_layers.clientserver.Client - INFO - Client down.\n"
     ]
    },
    {
     "data": {
      "text/plain": [
       "\"Warning: Invalid method 'invalidMethod'.\""
      ]
     },
     "execution_count": 7,
     "metadata": {},
     "output_type": "execute_result"
    }
   ],
   "source": [
    "client = clientserver.Client()\n",
    "\n",
    "client.call(\"invalidMethod\")"
   ]
  },
  {
   "cell_type": "markdown",
   "metadata": {},
   "source": [
    "# Closing connection"
   ]
  },
  {
   "cell_type": "code",
   "execution_count": 8,
   "metadata": {},
   "outputs": [
    {
     "name": "stderr",
     "output_type": "stream",
     "text": [
      "2023-10-23 13:23:51,542 - vs2lab.a1_layers.clientserver.Client - INFO - Client connected to socket <socket.socket fd=57, family=2, type=1, proto=0, laddr=('127.0.0.1', 58120), raddr=('127.0.0.1', 50007)>\n",
      "2023-10-23 13:23:51,546 - vs2lab.a1_layers.clientserver.Client - INFO - Telling server to close connection...\n",
      "2023-10-23 13:23:51,548 - vs2lab.a1_layers.clientserver.Client - INFO - Sending data CLOSE to server...\n",
      "2023-10-23 13:23:51,555 - vs2lab.a1_layers.clientserver.Client - INFO - Obtained data from server, analyzing...\n",
      "2023-10-23 13:23:51,558 - vs2lab.a1_layers.clientserver.Client - INFO - Printing decoded data to console...\n",
      "2023-10-23 13:23:51,561 - vs2lab.a1_layers.clientserver.Client - INFO - =================================================\n",
      "2023-10-23 13:23:51,563 - vs2lab.a1_layers.clientserver.Client - INFO - \n",
      "2023-10-23 13:23:51,565 - vs2lab.a1_layers.clientserver.Client - INFO - =================================================\n",
      "\n",
      "2023-10-23 13:23:51,569 - vs2lab.a1_layers.clientserver.Client - INFO - Successfully printed decoded data. Closing socket connection...\n",
      "2023-10-23 13:23:51,571 - vs2lab.a1_layers.clientserver.Client - INFO - Client down.\n"
     ]
    }
   ],
   "source": [
    "client = clientserver.Client()\n",
    "\n",
    "client.close_connection()"
   ]
  }
 ],
 "metadata": {
  "kernelspec": {
   "display_name": "Python 3 (ipykernel)",
   "language": "python",
   "name": "python3"
  },
  "language_info": {
   "codemirror_mode": {
    "name": "ipython",
    "version": 3
   },
   "file_extension": ".py",
   "mimetype": "text/x-python",
   "name": "python",
   "nbconvert_exporter": "python",
   "pygments_lexer": "ipython3",
   "version": "3.11.4"
  }
 },
 "nbformat": 4,
 "nbformat_minor": 4
}
