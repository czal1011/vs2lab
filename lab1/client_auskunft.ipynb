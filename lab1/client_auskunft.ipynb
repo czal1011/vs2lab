{
 "cells": [
  {
   "cell_type": "markdown",
   "metadata": {},
   "source": [
    "# Auskunft-Modell - Clientseite\n",
    "Dieses Notebook muss aufgerufen werden, nachdem der Server gestartet wurde."
   ]
  },
  {
   "cell_type": "markdown",
   "metadata": {},
   "source": [
    "## Setup"
   ]
  },
  {
   "cell_type": "code",
   "execution_count": 9,
   "metadata": {},
   "outputs": [],
   "source": [
    "import clientserver"
   ]
  },
  {
   "cell_type": "markdown",
   "metadata": {},
   "source": [
    "## GET"
   ]
  },
  {
   "cell_type": "code",
   "execution_count": 10,
   "metadata": {},
   "outputs": [
    {
     "name": "stderr",
     "output_type": "stream",
     "text": [
      "2023-11-02 13:48:43,533 - vs2lab.a1_layers.clientserver.Client - INFO - Client connected to socket <socket.socket fd=57, family=2, type=1, proto=0, laddr=('127.0.0.1', 56836), raddr=('127.0.0.1', 50007)>\n",
      "2023-11-02 13:48:43,543 - vs2lab.a1_layers.clientserver.Client - INFO - Attempting to use method \"GET/Rufus\"...\n",
      "2023-11-02 13:48:43,547 - vs2lab.a1_layers.clientserver.Client - INFO - Sending data GET/Rufus to server...\n",
      "2023-11-02 13:48:43,564 - vs2lab.a1_layers.clientserver.Client - INFO - Obtained data from server, analyzing...\n",
      "2023-11-02 13:48:43,566 - vs2lab.a1_layers.clientserver.Client - INFO - Printing decoded data to console...\n",
      "2023-11-02 13:48:43,570 - vs2lab.a1_layers.clientserver.Client - INFO - =================================================\n",
      "2023-11-02 13:48:43,573 - vs2lab.a1_layers.clientserver.Client - INFO - Rufus: 1234567890\n",
      "2023-11-02 13:48:43,576 - vs2lab.a1_layers.clientserver.Client - INFO - =================================================\n",
      "\n",
      "2023-11-02 13:48:43,580 - vs2lab.a1_layers.clientserver.Client - INFO - Successfully printed decoded data. Closing socket connection...\n",
      "2023-11-02 13:48:43,583 - vs2lab.a1_layers.clientserver.Client - INFO - Client down.\n"
     ]
    },
    {
     "data": {
      "text/plain": [
       "'Rufus: 1234567890'"
      ]
     },
     "execution_count": 10,
     "metadata": {},
     "output_type": "execute_result"
    }
   ],
   "source": [
    "client = clientserver.Client()\n",
    "\n",
    "client.get(\"Rufus\")"
   ]
  },
  {
   "cell_type": "markdown",
   "metadata": {},
   "source": [
    "## GET (Anderer Name)"
   ]
  },
  {
   "cell_type": "code",
   "execution_count": 11,
   "metadata": {},
   "outputs": [
    {
     "name": "stderr",
     "output_type": "stream",
     "text": [
      "2023-11-02 13:48:43,620 - vs2lab.a1_layers.clientserver.Client - INFO - Client connected to socket <socket.socket fd=57, family=2, type=1, proto=0, laddr=('127.0.0.1', 56838), raddr=('127.0.0.1', 50007)>\n",
      "2023-11-02 13:48:43,632 - vs2lab.a1_layers.clientserver.Client - INFO - Attempting to use method \"GET/Peter\"...\n",
      "2023-11-02 13:48:43,639 - vs2lab.a1_layers.clientserver.Client - INFO - Sending data GET/Peter to server...\n",
      "2023-11-02 13:48:43,652 - vs2lab.a1_layers.clientserver.Client - INFO - Obtained data from server, analyzing...\n",
      "2023-11-02 13:48:43,655 - vs2lab.a1_layers.clientserver.Client - INFO - Printing decoded data to console...\n",
      "2023-11-02 13:48:43,664 - vs2lab.a1_layers.clientserver.Client - INFO - =================================================\n",
      "2023-11-02 13:48:43,667 - vs2lab.a1_layers.clientserver.Client - INFO - Peter: 89555521\n",
      "2023-11-02 13:48:43,669 - vs2lab.a1_layers.clientserver.Client - INFO - =================================================\n",
      "\n",
      "2023-11-02 13:48:43,673 - vs2lab.a1_layers.clientserver.Client - INFO - Successfully printed decoded data. Closing socket connection...\n",
      "2023-11-02 13:48:43,677 - vs2lab.a1_layers.clientserver.Client - INFO - Client down.\n"
     ]
    },
    {
     "data": {
      "text/plain": [
       "'Peter: 89555521'"
      ]
     },
     "execution_count": 11,
     "metadata": {},
     "output_type": "execute_result"
    }
   ],
   "source": [
    "client = clientserver.Client()\n",
    "\n",
    "client.get(\"Peter\")"
   ]
  },
  {
   "cell_type": "markdown",
   "metadata": {},
   "source": [
    "## GET (Name existiert nicht in der Datenbank)"
   ]
  },
  {
   "cell_type": "code",
   "execution_count": 12,
   "metadata": {},
   "outputs": [
    {
     "name": "stderr",
     "output_type": "stream",
     "text": [
      "2023-11-02 13:48:43,704 - vs2lab.a1_layers.clientserver.Client - INFO - Client connected to socket <socket.socket fd=57, family=2, type=1, proto=0, laddr=('127.0.0.1', 56848), raddr=('127.0.0.1', 50007)>\n",
      "2023-11-02 13:48:43,708 - vs2lab.a1_layers.clientserver.Client - INFO - Attempting to use method \"GET/Carlos\"...\n",
      "2023-11-02 13:48:43,711 - vs2lab.a1_layers.clientserver.Client - INFO - Sending data GET/Carlos to server...\n",
      "2023-11-02 13:48:43,721 - vs2lab.a1_layers.clientserver.Client - INFO - Obtained data from server, analyzing...\n",
      "2023-11-02 13:48:43,724 - vs2lab.a1_layers.clientserver.Client - INFO - Printing decoded data to console...\n",
      "2023-11-02 13:48:43,726 - vs2lab.a1_layers.clientserver.Client - INFO - =================================================\n",
      "2023-11-02 13:48:43,731 - vs2lab.a1_layers.clientserver.Client - WARNING - Warning: Name Carlos is not present in the phone number database.\n",
      "2023-11-02 13:48:43,735 - vs2lab.a1_layers.clientserver.Client - INFO - =================================================\n",
      "\n",
      "2023-11-02 13:48:43,738 - vs2lab.a1_layers.clientserver.Client - INFO - Successfully printed decoded data. Closing socket connection...\n",
      "2023-11-02 13:48:43,743 - vs2lab.a1_layers.clientserver.Client - INFO - Client down.\n"
     ]
    },
    {
     "data": {
      "text/plain": [
       "'Warning: Name Carlos is not present in the phone number database.'"
      ]
     },
     "execution_count": 12,
     "metadata": {},
     "output_type": "execute_result"
    }
   ],
   "source": [
    "client = clientserver.Client()\n",
    "\n",
    "client.get(\"Carlos\")"
   ]
  },
  {
   "cell_type": "markdown",
   "metadata": {},
   "source": [
    "## GETALL"
   ]
  },
  {
   "cell_type": "code",
   "execution_count": 13,
   "metadata": {},
   "outputs": [
    {
     "name": "stderr",
     "output_type": "stream",
     "text": [
      "2023-11-02 13:48:43,771 - vs2lab.a1_layers.clientserver.Client - INFO - Client connected to socket <socket.socket fd=57, family=2, type=1, proto=0, laddr=('127.0.0.1', 56860), raddr=('127.0.0.1', 50007)>\n",
      "2023-11-02 13:48:43,776 - vs2lab.a1_layers.clientserver.Client - INFO - Attempting to use method \"GETALL\"...\n",
      "2023-11-02 13:48:43,780 - vs2lab.a1_layers.clientserver.Client - INFO - Sending data GETALL to server...\n",
      "2023-11-02 13:48:43,794 - vs2lab.a1_layers.clientserver.Client - INFO - Obtained data from server, analyzing...\n",
      "2023-11-02 13:48:43,796 - vs2lab.a1_layers.clientserver.Client - INFO - Printing decoded data to console...\n",
      "2023-11-02 13:48:43,798 - vs2lab.a1_layers.clientserver.Client - INFO - =================================================\n",
      "2023-11-02 13:48:43,801 - vs2lab.a1_layers.clientserver.Client - INFO - Rufus: 1234567890\n",
      "2023-11-02 13:48:43,804 - vs2lab.a1_layers.clientserver.Client - INFO - Karl-Heinz-Dietrich: 987654321\n",
      "2023-11-02 13:48:43,806 - vs2lab.a1_layers.clientserver.Client - INFO - Peter: 89555521\n",
      "2023-11-02 13:48:43,809 - vs2lab.a1_layers.clientserver.Client - INFO - Peter 2: 2222222223\n",
      "2023-11-02 13:48:43,811 - vs2lab.a1_layers.clientserver.Client - INFO - Sonic the Hedgehog: 9876567811\n",
      "2023-11-02 13:48:43,813 - vs2lab.a1_layers.clientserver.Client - INFO - Gustav: 4294967296\n",
      "2023-11-02 13:48:43,816 - vs2lab.a1_layers.clientserver.Client - INFO - =================================================\n",
      "\n",
      "2023-11-02 13:48:43,818 - vs2lab.a1_layers.clientserver.Client - INFO - Successfully printed decoded data. Closing socket connection...\n",
      "2023-11-02 13:48:43,821 - vs2lab.a1_layers.clientserver.Client - INFO - Client down.\n"
     ]
    },
    {
     "data": {
      "text/plain": [
       "'GETALL|Rufus: 1234567890|Karl-Heinz-Dietrich: 987654321|Peter: 89555521|Peter 2: 2222222223|Sonic the Hedgehog: 9876567811|Gustav: 4294967296'"
      ]
     },
     "execution_count": 13,
     "metadata": {},
     "output_type": "execute_result"
    }
   ],
   "source": [
    "client = clientserver.Client()\n",
    "\n",
    "client.get_all()"
   ]
  },
  {
   "cell_type": "markdown",
   "metadata": {},
   "source": [
    "## Spezialfälle / Errors"
   ]
  },
  {
   "cell_type": "markdown",
   "metadata": {},
   "source": [
    "### Ungültiger Name (\"\")"
   ]
  },
  {
   "cell_type": "code",
   "execution_count": 14,
   "metadata": {},
   "outputs": [
    {
     "name": "stderr",
     "output_type": "stream",
     "text": [
      "2023-11-02 13:48:43,838 - vs2lab.a1_layers.clientserver.Client - INFO - Client connected to socket <socket.socket fd=57, family=2, type=1, proto=0, laddr=('127.0.0.1', 56874), raddr=('127.0.0.1', 50007)>\n",
      "2023-11-02 13:48:43,841 - vs2lab.a1_layers.clientserver.Client - INFO - Attempting to use method \"GET/\"...\n",
      "2023-11-02 13:48:43,845 - vs2lab.a1_layers.clientserver.Client - INFO - Sending data GET/ to server...\n",
      "2023-11-02 13:48:43,857 - vs2lab.a1_layers.clientserver.Client - INFO - Obtained data from server, analyzing...\n",
      "2023-11-02 13:48:43,861 - vs2lab.a1_layers.clientserver.Client - INFO - Printing decoded data to console...\n",
      "2023-11-02 13:48:43,864 - vs2lab.a1_layers.clientserver.Client - INFO - =================================================\n",
      "2023-11-02 13:48:43,866 - vs2lab.a1_layers.clientserver.Client - WARNING - Warning: Invalid parameter '' for method 'GET'.\n",
      "2023-11-02 13:48:43,869 - vs2lab.a1_layers.clientserver.Client - INFO - =================================================\n",
      "\n",
      "2023-11-02 13:48:43,872 - vs2lab.a1_layers.clientserver.Client - INFO - Successfully printed decoded data. Closing socket connection...\n",
      "2023-11-02 13:48:43,876 - vs2lab.a1_layers.clientserver.Client - INFO - Client down.\n"
     ]
    },
    {
     "data": {
      "text/plain": [
       "\"Warning: Invalid parameter '' for method 'GET'.\""
      ]
     },
     "execution_count": 14,
     "metadata": {},
     "output_type": "execute_result"
    }
   ],
   "source": [
    "client = clientserver.Client()\n",
    "\n",
    "client.get(\"\")"
   ]
  },
  {
   "cell_type": "markdown",
   "metadata": {},
   "source": [
    "### Ungültige Methode"
   ]
  },
  {
   "cell_type": "code",
   "execution_count": 15,
   "metadata": {},
   "outputs": [
    {
     "name": "stderr",
     "output_type": "stream",
     "text": [
      "2023-11-02 13:48:43,893 - vs2lab.a1_layers.clientserver.Client - INFO - Client connected to socket <socket.socket fd=57, family=2, type=1, proto=0, laddr=('127.0.0.1', 56878), raddr=('127.0.0.1', 50007)>\n",
      "2023-11-02 13:48:43,895 - vs2lab.a1_layers.clientserver.Client - INFO - Sending data invalidMethod to server...\n",
      "2023-11-02 13:48:43,903 - vs2lab.a1_layers.clientserver.Client - INFO - Obtained data from server, analyzing...\n",
      "2023-11-02 13:48:43,907 - vs2lab.a1_layers.clientserver.Client - INFO - Printing decoded data to console...\n",
      "2023-11-02 13:48:43,911 - vs2lab.a1_layers.clientserver.Client - INFO - =================================================\n",
      "2023-11-02 13:48:43,914 - vs2lab.a1_layers.clientserver.Client - WARNING - Warning: Invalid method 'invalidMethod'.\n",
      "2023-11-02 13:48:43,916 - vs2lab.a1_layers.clientserver.Client - INFO - =================================================\n",
      "\n",
      "2023-11-02 13:48:43,918 - vs2lab.a1_layers.clientserver.Client - INFO - Successfully printed decoded data. Closing socket connection...\n",
      "2023-11-02 13:48:43,920 - vs2lab.a1_layers.clientserver.Client - INFO - Client down.\n"
     ]
    },
    {
     "data": {
      "text/plain": [
       "\"Warning: Invalid method 'invalidMethod'.\""
      ]
     },
     "execution_count": 15,
     "metadata": {},
     "output_type": "execute_result"
    }
   ],
   "source": [
    "client = clientserver.Client()\n",
    "\n",
    "client.call(\"invalidMethod\")"
   ]
  },
  {
   "cell_type": "markdown",
   "metadata": {},
   "source": [
    "# Closing connection"
   ]
  },
  {
   "cell_type": "code",
   "execution_count": 16,
   "metadata": {},
   "outputs": [
    {
     "name": "stderr",
     "output_type": "stream",
     "text": [
      "2023-11-02 13:48:43,937 - vs2lab.a1_layers.clientserver.Client - INFO - Client connected to socket <socket.socket fd=57, family=2, type=1, proto=0, laddr=('127.0.0.1', 56888), raddr=('127.0.0.1', 50007)>\n",
      "2023-11-02 13:48:43,940 - vs2lab.a1_layers.clientserver.Client - INFO - Telling server to close connection...\n",
      "2023-11-02 13:48:43,943 - vs2lab.a1_layers.clientserver.Client - INFO - Sending data CLOSE to server...\n",
      "2023-11-02 13:48:43,952 - vs2lab.a1_layers.clientserver.Client - INFO - Obtained data from server, analyzing...\n",
      "2023-11-02 13:48:43,955 - vs2lab.a1_layers.clientserver.Client - INFO - Printing decoded data to console...\n",
      "2023-11-02 13:48:43,958 - vs2lab.a1_layers.clientserver.Client - INFO - =================================================\n",
      "2023-11-02 13:48:43,963 - vs2lab.a1_layers.clientserver.Client - INFO - \n",
      "2023-11-02 13:48:43,966 - vs2lab.a1_layers.clientserver.Client - INFO - =================================================\n",
      "\n",
      "2023-11-02 13:48:43,968 - vs2lab.a1_layers.clientserver.Client - INFO - Successfully printed decoded data. Closing socket connection...\n",
      "2023-11-02 13:48:43,971 - vs2lab.a1_layers.clientserver.Client - INFO - Client down.\n"
     ]
    }
   ],
   "source": [
    "client = clientserver.Client()\n",
    "\n",
    "client.close_connection()"
   ]
  }
 ],
 "metadata": {
  "kernelspec": {
   "display_name": "Python 3 (ipykernel)",
   "language": "python",
   "name": "python3"
  },
  "language_info": {
   "codemirror_mode": {
    "name": "ipython",
    "version": 3
   },
   "file_extension": ".py",
   "mimetype": "text/x-python",
   "name": "python",
   "nbconvert_exporter": "python",
   "pygments_lexer": "ipython3",
   "version": "3.11.4"
  }
 },
 "nbformat": 4,
 "nbformat_minor": 4
}
