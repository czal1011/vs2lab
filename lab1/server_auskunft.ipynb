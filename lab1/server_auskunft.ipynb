{
 "cells": [
  {
   "cell_type": "markdown",
   "metadata": {},
   "source": [
    "# Auskunft-Modell - Serverseite\n",
    "Dieses Notebook muss zuerst aufgerufen werden. Standardmäßig sind im Adressbuch fünf Einträge vorhanden:\n",
    "- Rufus (1234567890)\n",
    "- Karl-Heinz-Dietrich (987654321)\n",
    "- Peter (89555521)\n",
    "- Peter 2 (2222222223)\n",
    "- Sonic the Hedgehog (9876567811)"
   ]
  },
  {
   "cell_type": "code",
   "execution_count": 1,
   "metadata": {},
   "outputs": [
    {
     "name": "stderr",
     "output_type": "stream",
     "text": [
      "2023-10-23 11:22:12,843 - vs2lab.lab1.clientserver.Server - INFO - Server bound to socket <socket.socket fd=57, family=2, type=1, proto=0, laddr=('127.0.0.1', 50007)>\n",
      "2023-10-23 11:22:12,846 - vs2lab.lab1.clientserver.Server - INFO - Adding phone number 1234567890 belonging to Rufus...\n",
      "2023-10-23 11:22:12,847 - vs2lab.lab1.clientserver.Server - INFO - Successfully added Rufus (1234567890) to the database!\n",
      "2023-10-23 11:22:12,850 - vs2lab.lab1.clientserver.Server - INFO - Adding phone number 987654321 belonging to Karl-Heinz-Dietrich...\n",
      "2023-10-23 11:22:12,853 - vs2lab.lab1.clientserver.Server - INFO - Successfully added Karl-Heinz-Dietrich (987654321) to the database!\n",
      "2023-10-23 11:22:12,854 - vs2lab.lab1.clientserver.Server - INFO - Adding phone number 89555521 belonging to Peter...\n",
      "2023-10-23 11:22:12,857 - vs2lab.lab1.clientserver.Server - INFO - Successfully added Peter (89555521) to the database!\n",
      "2023-10-23 11:22:12,859 - vs2lab.lab1.clientserver.Server - INFO - Adding phone number 2222222223 belonging to Peter 2...\n",
      "2023-10-23 11:22:12,861 - vs2lab.lab1.clientserver.Server - INFO - Successfully added Peter 2 (2222222223) to the database!\n",
      "2023-10-23 11:22:12,864 - vs2lab.lab1.clientserver.Server - INFO - Adding phone number 9876567811 belonging to Sonic the Hedgehog...\n",
      "2023-10-23 11:22:12,866 - vs2lab.lab1.clientserver.Server - INFO - Successfully added Sonic the Hedgehog (9876567811) to the database!\n"
     ]
    }
   ],
   "source": [
    "import clientserver\n",
    "\n",
    "server = clientserver.Server()"
   ]
  },
  {
   "cell_type": "markdown",
   "metadata": {},
   "source": [
    "## Eigene Telefonnummern hinzufügen"
   ]
  },
  {
   "cell_type": "code",
   "execution_count": 2,
   "metadata": {},
   "outputs": [
    {
     "name": "stderr",
     "output_type": "stream",
     "text": [
      "2023-10-23 11:22:12,879 - vs2lab.lab1.clientserver.Server - INFO - Adding phone number 4294967296 belonging to Gustav...\n",
      "2023-10-23 11:22:12,882 - vs2lab.lab1.clientserver.Server - INFO - Successfully added Gustav (4294967296) to the database!\n"
     ]
    }
   ],
   "source": [
    "server.add_phone_number(\"Gustav\", 4294967296)"
   ]
  },
  {
   "cell_type": "markdown",
   "metadata": {},
   "source": [
    "### Ungültiger Name"
   ]
  },
  {
   "cell_type": "code",
   "execution_count": 3,
   "metadata": {},
   "outputs": [
    {
     "name": "stderr",
     "output_type": "stream",
     "text": [
      "2023-10-23 11:22:12,897 - vs2lab.lab1.clientserver.Server - INFO - Adding phone number 1234 belonging to UngültigerNameWegenDasHier|...\n",
      "2023-10-23 11:22:12,900 - vs2lab.lab1.clientserver.Server - INFO - Warning: Name UngültigerNameWegenDasHier| contains an invalid letter ( | ).\n"
     ]
    }
   ],
   "source": [
    "server.add_phone_number(\"UngültigerNameWegenDasHier|\", 1234)"
   ]
  },
  {
   "cell_type": "markdown",
   "metadata": {},
   "source": [
    "## Server aktivieren"
   ]
  },
  {
   "cell_type": "code",
   "execution_count": null,
   "metadata": {},
   "outputs": [
    {
     "name": "stderr",
     "output_type": "stream",
     "text": [
      "2023-10-23 11:23:41,048 - vs2lab.lab1.clientserver.Server - WARNING - Warning: Invalid method 'invalidMethod'.\n"
     ]
    }
   ],
   "source": [
    "server.serve()"
   ]
  }
 ],
 "metadata": {
  "kernelspec": {
   "display_name": "Python 3 (ipykernel)",
   "language": "python",
   "name": "python3"
  },
  "language_info": {
   "codemirror_mode": {
    "name": "ipython",
    "version": 3
   },
   "file_extension": ".py",
   "mimetype": "text/x-python",
   "name": "python",
   "nbconvert_exporter": "python",
   "pygments_lexer": "ipython3",
   "version": "3.11.4"
  }
 },
 "nbformat": 4,
 "nbformat_minor": 4
}
