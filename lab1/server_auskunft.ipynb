{
 "cells": [
  {
   "cell_type": "markdown",
   "metadata": {},
   "source": [
    "# Auskunft-Modell - Serverseite\n",
    "Dieses Notebook muss zuerst aufgerufen werden. Standardmäßig sind im Adressbuch fünf Einträge vorhanden:\n",
    "- Rufus (1234567890)\n",
    "- Karl-Heinz-Dietrich (987654321)\n",
    "- Peter (89555521)\n",
    "- Peter 2 (2222222223)\n",
    "- Sonic the Hedgehog (9876567811)"
   ]
  },
  {
   "cell_type": "code",
   "execution_count": 1,
   "metadata": {},
   "outputs": [
    {
     "name": "stderr",
     "output_type": "stream",
     "text": [
      "2023-10-23 13:23:42,863 - vs2lab.lab1.clientserver.Server - INFO - Server bound to socket <socket.socket fd=54, family=2, type=1, proto=0, laddr=('127.0.0.1', 50007)>\n",
      "2023-10-23 13:23:42,868 - vs2lab.lab1.clientserver.Server - INFO - Adding phone number 1234567890 belonging to Rufus...\n",
      "2023-10-23 13:23:42,870 - vs2lab.lab1.clientserver.Server - INFO - Successfully added Rufus (1234567890) to the database!\n",
      "2023-10-23 13:23:42,872 - vs2lab.lab1.clientserver.Server - INFO - Adding phone number 987654321 belonging to Karl-Heinz-Dietrich...\n",
      "2023-10-23 13:23:42,875 - vs2lab.lab1.clientserver.Server - INFO - Successfully added Karl-Heinz-Dietrich (987654321) to the database!\n",
      "2023-10-23 13:23:42,878 - vs2lab.lab1.clientserver.Server - INFO - Adding phone number 89555521 belonging to Peter...\n",
      "2023-10-23 13:23:42,881 - vs2lab.lab1.clientserver.Server - INFO - Successfully added Peter (89555521) to the database!\n",
      "2023-10-23 13:23:42,883 - vs2lab.lab1.clientserver.Server - INFO - Adding phone number 2222222223 belonging to Peter 2...\n",
      "2023-10-23 13:23:42,885 - vs2lab.lab1.clientserver.Server - INFO - Successfully added Peter 2 (2222222223) to the database!\n",
      "2023-10-23 13:23:42,888 - vs2lab.lab1.clientserver.Server - INFO - Adding phone number 9876567811 belonging to Sonic the Hedgehog...\n",
      "2023-10-23 13:23:42,890 - vs2lab.lab1.clientserver.Server - INFO - Successfully added Sonic the Hedgehog (9876567811) to the database!\n"
     ]
    }
   ],
   "source": [
    "import clientserver\n",
    "\n",
    "server = clientserver.Server()"
   ]
  },
  {
   "cell_type": "markdown",
   "metadata": {},
   "source": [
    "## Eigene Telefonnummern hinzufügen"
   ]
  },
  {
   "cell_type": "code",
   "execution_count": 2,
   "metadata": {},
   "outputs": [
    {
     "name": "stderr",
     "output_type": "stream",
     "text": [
      "2023-10-23 13:23:42,904 - vs2lab.lab1.clientserver.Server - INFO - Adding phone number 4294967296 belonging to Gustav...\n",
      "2023-10-23 13:23:42,907 - vs2lab.lab1.clientserver.Server - INFO - Successfully added Gustav (4294967296) to the database!\n"
     ]
    }
   ],
   "source": [
    "server.add_phone_number(\"Gustav\", 4294967296)"
   ]
  },
  {
   "cell_type": "markdown",
   "metadata": {},
   "source": [
    "### Ungültiger Name"
   ]
  },
  {
   "cell_type": "code",
   "execution_count": 3,
   "metadata": {},
   "outputs": [
    {
     "name": "stderr",
     "output_type": "stream",
     "text": [
      "2023-10-23 13:23:42,922 - vs2lab.lab1.clientserver.Server - INFO - Adding phone number 1234 belonging to UngültigerNameWegenDasHier|...\n",
      "2023-10-23 13:23:42,924 - vs2lab.lab1.clientserver.Server - INFO - Warning: Name UngültigerNameWegenDasHier| contains an invalid letter ( | ).\n"
     ]
    }
   ],
   "source": [
    "server.add_phone_number(\"UngültigerNameWegenDasHier|\", 1234)"
   ]
  },
  {
   "cell_type": "markdown",
   "metadata": {},
   "source": [
    "## Server aktivieren"
   ]
  },
  {
   "cell_type": "code",
   "execution_count": 4,
   "metadata": {},
   "outputs": [
    {
     "name": "stderr",
     "output_type": "stream",
     "text": [
      "2023-10-23 13:23:51,230 - vs2lab.lab1.clientserver.Server - INFO - Accepted client connection\n",
      "2023-10-23 13:23:51,237 - vs2lab.lab1.clientserver.Server - INFO - Received data from client. Analyzing...\n",
      "2023-10-23 13:23:51,239 - vs2lab.lab1.clientserver.Server - INFO - Executing method 'GET' for name Rufus...\n",
      "2023-10-23 13:23:51,241 - vs2lab.lab1.clientserver.Server - INFO - Name Rufus found, returning phone number...\n",
      "2023-10-23 13:23:51,245 - vs2lab.lab1.clientserver.Server - INFO - Successfully found phone number 1234567890 for Rufus.\n",
      "2023-10-23 13:23:51,262 - vs2lab.lab1.clientserver.Server - INFO - Closing connection...\n",
      "2023-10-23 13:23:51,284 - vs2lab.lab1.clientserver.Server - INFO - Accepted client connection\n",
      "2023-10-23 13:23:51,293 - vs2lab.lab1.clientserver.Server - INFO - Received data from client. Analyzing...\n",
      "2023-10-23 13:23:51,296 - vs2lab.lab1.clientserver.Server - INFO - Executing method 'GET' for name Peter...\n",
      "2023-10-23 13:23:51,300 - vs2lab.lab1.clientserver.Server - INFO - Name Peter found, returning phone number...\n",
      "2023-10-23 13:23:51,303 - vs2lab.lab1.clientserver.Server - INFO - Successfully found phone number 89555521 for Peter.\n",
      "2023-10-23 13:23:51,324 - vs2lab.lab1.clientserver.Server - INFO - Closing connection...\n",
      "2023-10-23 13:23:51,346 - vs2lab.lab1.clientserver.Server - INFO - Accepted client connection\n",
      "2023-10-23 13:23:51,360 - vs2lab.lab1.clientserver.Server - INFO - Received data from client. Analyzing...\n",
      "2023-10-23 13:23:51,363 - vs2lab.lab1.clientserver.Server - INFO - Executing method 'GET' for name Carlos...\n",
      "2023-10-23 13:23:51,380 - vs2lab.lab1.clientserver.Server - INFO - Closing connection...\n",
      "2023-10-23 13:23:51,397 - vs2lab.lab1.clientserver.Server - INFO - Accepted client connection\n",
      "2023-10-23 13:23:51,405 - vs2lab.lab1.clientserver.Server - INFO - Received data from client. Analyzing...\n",
      "2023-10-23 13:23:51,409 - vs2lab.lab1.clientserver.Server - INFO - Executing method 'GETALL'...\n",
      "2023-10-23 13:23:51,411 - vs2lab.lab1.clientserver.Server - INFO - Successfully found phone number for 6 names.\n",
      "2023-10-23 13:23:51,439 - vs2lab.lab1.clientserver.Server - INFO - Closing connection...\n",
      "2023-10-23 13:23:51,455 - vs2lab.lab1.clientserver.Server - INFO - Accepted client connection\n",
      "2023-10-23 13:23:51,463 - vs2lab.lab1.clientserver.Server - INFO - Received data from client. Analyzing...\n",
      "2023-10-23 13:23:51,465 - vs2lab.lab1.clientserver.Server - INFO - Executing method 'GET' for name ...\n",
      "2023-10-23 13:23:51,467 - vs2lab.lab1.clientserver.Server - INFO - Closing connection...\n",
      "2023-10-23 13:23:51,506 - vs2lab.lab1.clientserver.Server - INFO - Accepted client connection\n",
      "2023-10-23 13:23:51,510 - vs2lab.lab1.clientserver.Server - INFO - Received data from client. Analyzing...\n",
      "2023-10-23 13:23:51,512 - vs2lab.lab1.clientserver.Server - WARNING - Warning: Invalid method 'invalidMethod'.\n",
      "2023-10-23 13:23:51,527 - vs2lab.lab1.clientserver.Server - INFO - Closing connection...\n",
      "2023-10-23 13:23:51,542 - vs2lab.lab1.clientserver.Server - INFO - Accepted client connection\n",
      "2023-10-23 13:23:51,550 - vs2lab.lab1.clientserver.Server - INFO - Received data from client. Analyzing...\n",
      "2023-10-23 13:23:51,551 - vs2lab.lab1.clientserver.Server - INFO - Executing method 'CLOSE', terminating connection...\n",
      "2023-10-23 13:23:51,553 - vs2lab.lab1.clientserver.Server - INFO - Closing connection...\n",
      "2023-10-23 13:23:51,556 - vs2lab.lab1.clientserver.Server - INFO - Closing socket...\n",
      "2023-10-23 13:23:51,558 - vs2lab.lab1.clientserver.Server - INFO - Server down.\n"
     ]
    }
   ],
   "source": [
    "server.serve()"
   ]
  }
 ],
 "metadata": {
  "kernelspec": {
   "display_name": "Python 3 (ipykernel)",
   "language": "python",
   "name": "python3"
  },
  "language_info": {
   "codemirror_mode": {
    "name": "ipython",
    "version": 3
   },
   "file_extension": ".py",
   "mimetype": "text/x-python",
   "name": "python",
   "nbconvert_exporter": "python",
   "pygments_lexer": "ipython3",
   "version": "3.11.4"
  }
 },
 "nbformat": 4,
 "nbformat_minor": 4
}
