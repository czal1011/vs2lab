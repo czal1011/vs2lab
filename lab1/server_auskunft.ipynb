{
 "cells": [
  {
   "cell_type": "markdown",
   "metadata": {},
   "source": [
    "# Auskunft-Modell - Serverseite\n",
    "Dieses Notebook muss zuerst aufgerufen werden. Standardmäßig sind im Adressbuch fünf Einträge vorhanden:\n",
    "- Rufus (1234567890)\n",
    "- Karl-Heinz-Dietrich (987654321)\n",
    "- Peter (89555521)\n",
    "- Peter 2 (2222222223)\n",
    "- Sonic the Hedgehog (9876567811)"
   ]
  },
  {
   "cell_type": "code",
   "execution_count": 5,
   "metadata": {},
   "outputs": [
    {
     "name": "stderr",
     "output_type": "stream",
     "text": [
      "2023-11-02 13:48:20,570 - vs2lab.lab1.clientserver.Server - INFO - Server bound to socket <socket.socket fd=58, family=2, type=1, proto=0, laddr=('127.0.0.1', 50007)>\n",
      "2023-11-02 13:48:20,584 - vs2lab.lab1.clientserver.Server - INFO - Adding phone number 1234567890 belonging to Rufus...\n",
      "2023-11-02 13:48:20,586 - vs2lab.lab1.clientserver.Server - INFO - Successfully added Rufus (1234567890) to the database!\n",
      "2023-11-02 13:48:20,589 - vs2lab.lab1.clientserver.Server - INFO - Adding phone number 987654321 belonging to Karl-Heinz-Dietrich...\n",
      "2023-11-02 13:48:20,591 - vs2lab.lab1.clientserver.Server - INFO - Successfully added Karl-Heinz-Dietrich (987654321) to the database!\n",
      "2023-11-02 13:48:20,593 - vs2lab.lab1.clientserver.Server - INFO - Adding phone number 89555521 belonging to Peter...\n",
      "2023-11-02 13:48:20,596 - vs2lab.lab1.clientserver.Server - INFO - Successfully added Peter (89555521) to the database!\n",
      "2023-11-02 13:48:20,600 - vs2lab.lab1.clientserver.Server - INFO - Adding phone number 2222222223 belonging to Peter 2...\n",
      "2023-11-02 13:48:20,603 - vs2lab.lab1.clientserver.Server - INFO - Successfully added Peter 2 (2222222223) to the database!\n",
      "2023-11-02 13:48:20,606 - vs2lab.lab1.clientserver.Server - INFO - Adding phone number 9876567811 belonging to Sonic the Hedgehog...\n",
      "2023-11-02 13:48:20,608 - vs2lab.lab1.clientserver.Server - INFO - Successfully added Sonic the Hedgehog (9876567811) to the database!\n"
     ]
    }
   ],
   "source": [
    "import clientserver\n",
    "\n",
    "server = clientserver.Server()"
   ]
  },
  {
   "cell_type": "markdown",
   "metadata": {},
   "source": [
    "## Eigene Telefonnummern hinzufügen"
   ]
  },
  {
   "cell_type": "code",
   "execution_count": 6,
   "metadata": {},
   "outputs": [
    {
     "name": "stderr",
     "output_type": "stream",
     "text": [
      "2023-11-02 13:48:20,642 - vs2lab.lab1.clientserver.Server - INFO - Adding phone number 4294967296 belonging to Gustav...\n",
      "2023-11-02 13:48:20,645 - vs2lab.lab1.clientserver.Server - INFO - Successfully added Gustav (4294967296) to the database!\n"
     ]
    }
   ],
   "source": [
    "server.add_phone_number(\"Gustav\", 4294967296)"
   ]
  },
  {
   "cell_type": "markdown",
   "metadata": {},
   "source": [
    "### Ungültiger Name"
   ]
  },
  {
   "cell_type": "code",
   "execution_count": 7,
   "metadata": {},
   "outputs": [
    {
     "name": "stderr",
     "output_type": "stream",
     "text": [
      "2023-11-02 13:48:20,666 - vs2lab.lab1.clientserver.Server - INFO - Adding phone number 1234 belonging to UngültigerNameWegenDasHier|...\n",
      "2023-11-02 13:48:20,670 - vs2lab.lab1.clientserver.Server - INFO - Warning: Name UngültigerNameWegenDasHier| contains an invalid letter ( | ).\n"
     ]
    }
   ],
   "source": [
    "server.add_phone_number(\"UngültigerNameWegenDasHier|\", 1234)"
   ]
  },
  {
   "cell_type": "markdown",
   "metadata": {},
   "source": [
    "## Server aktivieren"
   ]
  },
  {
   "cell_type": "code",
   "execution_count": 8,
   "metadata": {},
   "outputs": [
    {
     "name": "stderr",
     "output_type": "stream",
     "text": [
      "2023-11-02 13:48:43,531 - vs2lab.lab1.clientserver.Server - INFO - Accepted client connection\n",
      "2023-11-02 13:48:43,550 - vs2lab.lab1.clientserver.Server - INFO - Received data from client. Analyzing...\n",
      "2023-11-02 13:48:43,552 - vs2lab.lab1.clientserver.Server - INFO - Executing method 'GET' for name Rufus...\n",
      "2023-11-02 13:48:43,555 - vs2lab.lab1.clientserver.Server - INFO - Name Rufus found, returning phone number...\n",
      "2023-11-02 13:48:43,561 - vs2lab.lab1.clientserver.Server - INFO - Successfully found phone number 1234567890 for Rufus.\n",
      "2023-11-02 13:48:43,583 - vs2lab.lab1.clientserver.Server - INFO - Closing connection...\n",
      "2023-11-02 13:48:43,618 - vs2lab.lab1.clientserver.Server - INFO - Accepted client connection\n",
      "2023-11-02 13:48:43,642 - vs2lab.lab1.clientserver.Server - INFO - Received data from client. Analyzing...\n",
      "2023-11-02 13:48:43,645 - vs2lab.lab1.clientserver.Server - INFO - Executing method 'GET' for name Peter...\n",
      "2023-11-02 13:48:43,648 - vs2lab.lab1.clientserver.Server - INFO - Name Peter found, returning phone number...\n",
      "2023-11-02 13:48:43,650 - vs2lab.lab1.clientserver.Server - INFO - Successfully found phone number 89555521 for Peter.\n",
      "2023-11-02 13:48:43,677 - vs2lab.lab1.clientserver.Server - INFO - Closing connection...\n",
      "2023-11-02 13:48:43,703 - vs2lab.lab1.clientserver.Server - INFO - Accepted client connection\n",
      "2023-11-02 13:48:43,715 - vs2lab.lab1.clientserver.Server - INFO - Received data from client. Analyzing...\n",
      "2023-11-02 13:48:43,717 - vs2lab.lab1.clientserver.Server - INFO - Executing method 'GET' for name Carlos...\n",
      "2023-11-02 13:48:43,743 - vs2lab.lab1.clientserver.Server - INFO - Closing connection...\n",
      "2023-11-02 13:48:43,770 - vs2lab.lab1.clientserver.Server - INFO - Accepted client connection\n",
      "2023-11-02 13:48:43,784 - vs2lab.lab1.clientserver.Server - INFO - Received data from client. Analyzing...\n",
      "2023-11-02 13:48:43,787 - vs2lab.lab1.clientserver.Server - INFO - Executing method 'GETALL'...\n",
      "2023-11-02 13:48:43,790 - vs2lab.lab1.clientserver.Server - INFO - Successfully found phone number for 6 names.\n",
      "2023-11-02 13:48:43,820 - vs2lab.lab1.clientserver.Server - INFO - Closing connection...\n",
      "2023-11-02 13:48:43,838 - vs2lab.lab1.clientserver.Server - INFO - Accepted client connection\n",
      "2023-11-02 13:48:43,848 - vs2lab.lab1.clientserver.Server - INFO - Received data from client. Analyzing...\n",
      "2023-11-02 13:48:43,853 - vs2lab.lab1.clientserver.Server - INFO - Executing method 'GET' for name ...\n",
      "2023-11-02 13:48:43,857 - vs2lab.lab1.clientserver.Server - INFO - Closing connection...\n",
      "2023-11-02 13:48:43,893 - vs2lab.lab1.clientserver.Server - INFO - Accepted client connection\n",
      "2023-11-02 13:48:43,898 - vs2lab.lab1.clientserver.Server - INFO - Received data from client. Analyzing...\n",
      "2023-11-02 13:48:43,901 - vs2lab.lab1.clientserver.Server - WARNING - Warning: Invalid method 'invalidMethod'.\n",
      "2023-11-02 13:48:43,920 - vs2lab.lab1.clientserver.Server - INFO - Closing connection...\n",
      "2023-11-02 13:48:43,937 - vs2lab.lab1.clientserver.Server - INFO - Accepted client connection\n",
      "2023-11-02 13:48:43,945 - vs2lab.lab1.clientserver.Server - INFO - Received data from client. Analyzing...\n",
      "2023-11-02 13:48:43,947 - vs2lab.lab1.clientserver.Server - INFO - Executing method 'CLOSE', terminating connection...\n",
      "2023-11-02 13:48:43,950 - vs2lab.lab1.clientserver.Server - INFO - Closing connection...\n",
      "2023-11-02 13:48:43,953 - vs2lab.lab1.clientserver.Server - INFO - Closing socket...\n",
      "2023-11-02 13:48:43,955 - vs2lab.lab1.clientserver.Server - INFO - Server down.\n"
     ]
    }
   ],
   "source": [
    "server.serve()"
   ]
  }
 ],
 "metadata": {
  "kernelspec": {
   "display_name": "Python 3 (ipykernel)",
   "language": "python",
   "name": "python3"
  },
  "language_info": {
   "codemirror_mode": {
    "name": "ipython",
    "version": 3
   },
   "file_extension": ".py",
   "mimetype": "text/x-python",
   "name": "python",
   "nbconvert_exporter": "python",
   "pygments_lexer": "ipython3",
   "version": "3.11.4"
  }
 },
 "nbformat": 4,
 "nbformat_minor": 4
}
